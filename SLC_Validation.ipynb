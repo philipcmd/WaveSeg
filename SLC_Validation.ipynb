{
 "cells": [
  {
   "cell_type": "markdown",
   "metadata": {},
   "source": [
    "# SLC"
   ]
  },
  {
   "cell_type": "markdown",
   "metadata": {},
   "source": [
    "## Imports"
   ]
  },
  {
   "cell_type": "code",
   "execution_count": 1,
   "metadata": {},
   "outputs": [
    {
     "name": "stderr",
     "output_type": "stream",
     "text": [
      "c:\\Users\\Philip Shahdadfar\\AppData\\Local\\Programs\\Python\\Python312\\Lib\\site-packages\\tqdm\\auto.py:21: TqdmWarning: IProgress not found. Please update jupyter and ipywidgets. See https://ipywidgets.readthedocs.io/en/stable/user_install.html\n",
      "  from .autonotebook import tqdm as notebook_tqdm\n"
     ]
    },
    {
     "ename": "ModuleNotFoundError",
     "evalue": "No module named 'hypso'",
     "output_type": "error",
     "traceback": [
      "\u001b[1;31m---------------------------------------------------------------------------\u001b[0m",
      "\u001b[1;31mModuleNotFoundError\u001b[0m                       Traceback (most recent call last)",
      "Cell \u001b[1;32mIn[1], line 28\u001b[0m\n\u001b[0;32m     25\u001b[0m \u001b[38;5;28;01mimport\u001b[39;00m \u001b[38;5;21;01mgc\u001b[39;00m\n\u001b[0;32m     26\u001b[0m \u001b[38;5;28;01mimport\u001b[39;00m \u001b[38;5;21;01mmatplotlib\u001b[39;00m\u001b[38;5;21;01m.\u001b[39;00m\u001b[38;5;21;01mpatches\u001b[39;00m \u001b[38;5;28;01mas\u001b[39;00m \u001b[38;5;21;01mmpatches\u001b[39;00m\n\u001b[1;32m---> 28\u001b[0m \u001b[38;5;28;01mimport\u001b[39;00m \u001b[38;5;21;01mhypso\u001b[39;00m \n\u001b[0;32m     29\u001b[0m \u001b[38;5;28;01mfrom\u001b[39;00m \u001b[38;5;21;01mhypso\u001b[39;00m \u001b[38;5;28;01mimport\u001b[39;00m Hypso1, Hypso2\n\u001b[0;32m     34\u001b[0m \u001b[38;5;28;01mfrom\u001b[39;00m \u001b[38;5;21;01mtorch\u001b[39;00m\u001b[38;5;21;01m.\u001b[39;00m\u001b[38;5;21;01mutils\u001b[39;00m\u001b[38;5;21;01m.\u001b[39;00m\u001b[38;5;21;01mdata\u001b[39;00m \u001b[38;5;28;01mimport\u001b[39;00m ConcatDataset\n",
      "\u001b[1;31mModuleNotFoundError\u001b[0m: No module named 'hypso'"
     ]
    }
   ],
   "source": [
    "import os\n",
    "import optuna\n",
    "import time\n",
    "import spectral\n",
    "import numpy as np\n",
    "import matplotlib.pyplot as plt\n",
    "import scipy.io as sio\n",
    "import torch\n",
    "import torch.nn as nn\n",
    "import torch.nn.functional as F\n",
    "from sklearn.metrics import confusion_matrix\n",
    "import seaborn as sns\n",
    "from sklearn.model_selection import train_test_split\n",
    "from sklearn.metrics import classification_report,recall_score,cohen_kappa_score,accuracy_score\n",
    "from torchmetrics.classification import MulticlassConfusionMatrix\n",
    "from torchinfo import summary\n",
    "from torch.utils.data import DataLoader\n",
    "from torch.utils.data import Dataset\n",
    "from sklearn.decomposition import PCA\n",
    "from pytorch_wavelets import DWTForward\n",
    "from tqdm import tqdm\n",
    "import random\n",
    "from torchviz import make_dot\n",
    "import h5py\n",
    "import gc\n",
    "import matplotlib.patches as mpatches\n",
    "\n",
    "import hypso \n",
    "from hypso import Hypso1, Hypso2\n",
    "\n",
    "\n",
    "\n",
    "\n",
    "from torch.utils.data import ConcatDataset\n",
    "if torch.cuda.is_available():\n",
    "    torch.backends.cudnn.deterministic = True\n",
    "\n",
    "start_time = time.time() \n",
    "\n",
    "# Device\n",
    "torch.device('cuda' if torch.cuda.is_available() else 'cpu')\n",
    "print(\"Is CUDA available?:\", torch.cuda.is_available())\n",
    "\n",
    "if torch.cuda.is_available():\n",
    "    print(\"Current CUDA device:\", torch.cuda.current_device())\n",
    "    print(\"Device name:\", torch.cuda.get_device_name(torch.cuda.current_device()))\n",
    "else:\n",
    "    print(\"CUDA is not available.\")\n",
    "\n",
    "print(\"Allocated GPU memory:\", torch.cuda.memory_allocated())\n",
    "print(\"Cached GPU memory:\", torch.cuda.memory_reserved())\n"
   ]
  },
  {
   "cell_type": "markdown",
   "metadata": {},
   "source": [
    "## Settings"
   ]
  },
  {
   "cell_type": "code",
   "execution_count": null,
   "metadata": {},
   "outputs": [
    {
     "name": "stdout",
     "output_type": "stream",
     "text": [
      "Number of bands utilized: 80\n",
      "Training size: 0.9\n",
      "Epochs: 50\n",
      "Batch size: 16\n",
      "Patch size: 128\n",
      "Learning rate: 0.001\n",
      "Weight decay: 0.0001\n"
     ]
    }
   ],
   "source": [
    "DATASET = 'SLC'    \n",
    "\n",
    "\n",
    "if DATASET == 'SLC':\n",
    "    N_PCA = 80\n",
    "    TRAIN_SIZE = 0.9\n",
    "    BATCH_SIZE = 16\n",
    "    EPOCH = 50\n",
    "    PATCH_SIZE = 128\n",
    "    LR = 0.001   \n",
    "    WEIGHT_DECAY = 0.0001\n",
    "    \n",
    "\n",
    "VAL_EPOCH = 5\n",
    "VAL_RATE = 0.1    \n",
    "RANDOM_SEED=42\n",
    "\n",
    "print(f'Number of bands utilized: {N_PCA}') \n",
    "print(f'Training size: {TRAIN_SIZE}') \n",
    "print(f'Epochs: {EPOCH}') \n",
    "print(f'Batch size: {BATCH_SIZE}') \n",
    "print(f'Patch size: {PATCH_SIZE}') \n",
    "print(f'Learning rate: {LR}') \n",
    "print(f'Weight decay: {WEIGHT_DECAY}') \n"
   ]
  },
  {
   "cell_type": "code",
   "execution_count": null,
   "metadata": {},
   "outputs": [],
   "source": [
    "## Set random seed for reproduction\n",
    "random.seed(RANDOM_SEED)\n",
    "torch.manual_seed(RANDOM_SEED)\n",
    "torch.cuda.manual_seed(RANDOM_SEED)\n",
    "torch.cuda.manual_seed_all(RANDOM_SEED)\n",
    "np.random.seed(RANDOM_SEED)\n",
    "torch.backends.cudnn.deterministic = True\n",
    "torch.backends.cudnn.benchmark = False\n",
    "\n",
    "\n",
    "\n",
    "SAVE_PATH = f\"results\\\\{DATASET}\"\n",
    "if not os.path.isdir(SAVE_PATH):\n",
    "    os.mkdir(SAVE_PATH)"
   ]
  },
  {
   "cell_type": "markdown",
   "metadata": {},
   "source": [
    "## Dataset"
   ]
  },
  {
   "cell_type": "code",
   "execution_count": null,
   "metadata": {},
   "outputs": [
    {
     "name": "stdout",
     "output_type": "stream",
     "text": [
      "Number of images: 33\n",
      "Number of labels: 33\n",
      "Data Shape: (956, 684, 120)\n",
      "Labels Shape: (956, 684)\n",
      "Unique labels in dataset: [0 1 2]\n",
      "Number of classes: 3\n",
      "(33, 956, 684, 120)\n",
      "(33, 956, 684)\n"
     ]
    }
   ],
   "source": [
    "def load_dataset(dataset_name, ignore_scenes=None):\n",
    "    if ignore_scenes is None:\n",
    "        ignore_scenes = []  # Default to an empty list if no scenes are specified\n",
    "    \n",
    "    datapath = os.path.join(os.getcwd(), 'Datasets')\n",
    "    \n",
    "    if dataset_name == 'SLC':\n",
    "        dataset_path = os.path.join(datapath, 'SLC')\n",
    "        \n",
    "        # Get all .mat and _class_NPY_FORMAT.npy files\n",
    "        data_files = [f for f in os.listdir(dataset_path) if f.endswith('.mat')]\n",
    "        label_files = [f for f in os.listdir(dataset_path) if f.endswith('_class_NPY_FORMAT.npy')]\n",
    "        \n",
    "        # Extract scene names from filenames\n",
    "        data_scenes = {os.path.splitext(f)[0]: f for f in data_files}\n",
    "        label_scenes = {f.replace('_class_NPY_FORMAT.npy', ''): f for f in label_files}\n",
    "        \n",
    "        # Ensure data and label files are matched correctly based on scene names\n",
    "        common_scenes = sorted(set(data_scenes.keys()) & set(label_scenes.keys()))\n",
    "\n",
    "        # Filter out ignored scenes\n",
    "        common_scenes = [scene for scene in common_scenes if scene not in ignore_scenes]\n",
    "        \n",
    "        data_list = []\n",
    "        label_list = []\n",
    "        class_name = [\"Sea\", \"Land\", \"Cloud\"]\n",
    "        \n",
    "        for scene in common_scenes:\n",
    "            data_path = os.path.join(dataset_path, data_scenes[scene])\n",
    "            label_path = os.path.join(dataset_path, label_scenes[scene])\n",
    "            \n",
    "            # Load the .mat file and find the correct key\n",
    "            mat_contents = sio.loadmat(data_path)\n",
    "            available_keys = [key for key in mat_contents.keys() if not key.startswith('__')]\n",
    "            \n",
    "            if scene in mat_contents:\n",
    "                data_list.append(mat_contents[scene])\n",
    "            elif len(available_keys) == 1:\n",
    "                data_list.append(mat_contents[available_keys[0]])  # Use the only available key\n",
    "            else:\n",
    "                raise KeyError(f\"Key '{scene}' not found in {data_path}. Available keys: {available_keys}\")\n",
    "            \n",
    "            # Load the .npy label file\n",
    "            label_list.append(np.load(label_path))\n",
    "        \n",
    "        return np.array(data_list), np.array(label_list), class_name, common_scenes\n",
    "    else:\n",
    "        raise ValueError(f\"Dataset {dataset_name} not recognized.\")\n",
    "    \n",
    "\n",
    "\n",
    "ignore_scenes = [\"Niger_2022_09_06T09_26_29\", \"griegFinnmark_2022_07_06\", \"erie_2022-09-21\", \"palliserIslands_2022-10-22\"]\n",
    "data_list, label_list, class_name, common_scenes = load_dataset(DATASET, ignore_scenes)\n",
    "\n",
    "print(f\"Number of images: {len(data_list)}\")\n",
    "print(f\"Number of labels: {len(label_list)}\")\n",
    "for scene, data in zip(common_scenes, data_list):\n",
    "    pass\n",
    "print(f\"Data Shape: {data.shape}\")\n",
    "for scene, label in zip(common_scenes, label_list):\n",
    "    pass\n",
    "print(f\"Labels Shape: {label.shape}\")\n",
    "\n",
    "unique_labels = np.unique(np.concatenate(label_list))\n",
    "print(f\"Unique labels in dataset: {unique_labels}\")\n",
    "\n",
    "# Adjust if labels are zero-indexed\n",
    "NUM_CLASS = unique_labels.max() + 1 if 0 in unique_labels else unique_labels.max()\n",
    "print(f\"Number of classes: {NUM_CLASS}\")\n",
    "\n",
    "print(data_list.shape)\n",
    "print(label_list.shape)"
   ]
  },
  {
   "cell_type": "markdown",
   "metadata": {},
   "source": [
    "## Pre-process data"
   ]
  },
  {
   "cell_type": "markdown",
   "metadata": {},
   "source": [
    "### Dimensionality Reduction (PCA)"
   ]
  },
  {
   "cell_type": "code",
   "execution_count": null,
   "metadata": {},
   "outputs": [],
   "source": [
    "def applyPCA(X, numComponents):\n",
    "    newX = np.reshape(X, (-1, X.shape[2]))\n",
    "    pca = PCA(n_components=numComponents, whiten=True)   ##PCA and normalization\n",
    "    newX = pca.fit_transform(newX)\n",
    "    newX = np.reshape(newX, (X.shape[0],X.shape[1], numComponents))\n",
    "    return newX, pca"
   ]
  },
  {
   "cell_type": "markdown",
   "metadata": {},
   "source": [
    "### Create image patches (zero-padding)"
   ]
  },
  {
   "cell_type": "code",
   "execution_count": null,
   "metadata": {},
   "outputs": [],
   "source": [
    "class PatchSet(Dataset):\n",
    "    \"\"\" Generate 3D patch from hyperspectral dataset \"\"\"\n",
    "    def __init__(self, data, gt, patch_size, is_pred=False):\n",
    "        \"\"\"\n",
    "        Args:\n",
    "            data: 3D hyperspectral image\n",
    "            gt: 2D array of labels\n",
    "            patch_size: int, size of the 3D patch\n",
    "            is_pred: bool, create data without label for prediction (default False) \n",
    "\n",
    "        \"\"\"\n",
    "        super(PatchSet, self).__init__()\n",
    "        self.is_pred = is_pred\n",
    "        self.patch_size = patch_size\n",
    "        p = self.patch_size // 2\n",
    "        self.data = np.pad(data,((p,p),(p,p),(0,0)),'constant',constant_values = 0)\n",
    "        if is_pred:\n",
    "            gt = np.ones_like(gt)\n",
    "        self.label = np.pad(gt,(p,p),'constant',constant_values = 0)\n",
    "        x_pos, y_pos = np.nonzero(gt)\n",
    "        x_pos, y_pos = x_pos + p, y_pos + p   ##indices after padding\n",
    "        self.indices = np.array([(x,y) for x,y in zip(x_pos, y_pos)])\n",
    "        if not is_pred:\n",
    "            np.random.shuffle(self.indices)\n",
    "\n",
    "    def __len__(self):\n",
    "        return len(self.indices)\n",
    "\n",
    "    def __getitem__(self, i):\n",
    "        x, y = self.indices[i]\n",
    "        x1, y1 = x - self.patch_size // 2, y - self.patch_size // 2\n",
    "        x2, y2 = x1 + self.patch_size, y1 + self.patch_size\n",
    "        data = self.data[x1:x2, y1:y2]\n",
    "        label = self.label[x, y]\n",
    "        data = np.asarray(data, dtype='float32').transpose((2, 0, 1))\n",
    "        label = np.asarray(label, dtype='int64')\n",
    "        data = torch.from_numpy(data)\n",
    "        label = torch.from_numpy(label)\n",
    "        if self.is_pred:\n",
    "            return data\n",
    "        else: return data, label"
   ]
  },
  {
   "cell_type": "markdown",
   "metadata": {},
   "source": [
    "## Print "
   ]
  },
  {
   "cell_type": "code",
   "execution_count": null,
   "metadata": {},
   "outputs": [],
   "source": [
    "# class_names = {0: \"Water\", 1: \"Land\", 2: \"Clouds\"}  # Modify as needed\n",
    "\n",
    "# for data, label, scene in zip(data_list, label_list, common_scenes):\n",
    "#     fig, axes = plt.subplots(1, 3, figsize=(18, 6)) \n",
    "\n",
    "#     rgb_data_1 = spectral.get_rgb(data, (29, 20, 10))  \n",
    "#     rgb_data_2 = spectral.get_rgb(data, (0, 10, 20)) \n",
    "\n",
    "#     axes[0].imshow(rgb_data_1)\n",
    "#     axes[0].set_title(f'RGB Origin - {scene}')\n",
    "#     axes[0].axis('off')\n",
    "\n",
    "#     # GroundTruth with color legend\n",
    "#     im = axes[1].imshow(label, cmap='jet')\n",
    "#     axes[1].set_title(f'GroundTruth - {scene}')\n",
    "#     axes[1].axis('off')\n",
    "\n",
    "#     axes[2].imshow(rgb_data_2)\n",
    "#     axes[2].imshow(label, cmap='jet', alpha=0.5)\n",
    "#     axes[2].set_title(f'Overlay - {scene}')\n",
    "#     axes[2].axis('off')\n",
    "\n",
    "#     # Extract unique labels present in the current label image\n",
    "#     unique_labels = np.unique(label)\n",
    "\n",
    "#     # Create legend with corresponding colors\n",
    "#     patches = [\n",
    "#         mpatches.Patch(color=plt.cm.jet(label_val / max(unique_labels)), label=class_names.get(label_val, f\"Class {label_val}\"))\n",
    "#         for label_val in unique_labels\n",
    "#     ]\n",
    "    \n",
    "#     # Add legend below GroundTruth\n",
    "#     legend = axes[1].legend(handles=patches, loc='lower center', bbox_to_anchor=(0.5, -0.15), ncol=3, fontsize=10)\n",
    "    \n",
    "#     plt.suptitle(f'Scene: {scene}', fontsize=14, fontweight='bold')\n",
    "    \n",
    "#     plt.tight_layout(rect=[0, 0, 1, 0.95])  # Adjust layout to fit suptitle\n",
    "#     plt.show()"
   ]
  },
  {
   "cell_type": "markdown",
   "metadata": {},
   "source": [
    "## Apply Transformations"
   ]
  },
  {
   "cell_type": "code",
   "execution_count": null,
   "metadata": {},
   "outputs": [
    {
     "name": "stdout",
     "output_type": "stream",
     "text": [
      "Image shape:(83, 86, 50)\n"
     ]
    }
   ],
   "source": [
    "data,pca = applyPCA(data,N_PCA)\n",
    "print('Image shape:' + str(data.shape))\n"
   ]
  },
  {
   "cell_type": "markdown",
   "metadata": {},
   "source": [
    "### Data Split"
   ]
  },
  {
   "cell_type": "markdown",
   "metadata": {},
   "source": [
    "### Create dataset and dataloader"
   ]
  },
  {
   "cell_type": "code",
   "execution_count": null,
   "metadata": {},
   "outputs": [],
   "source": [
    "train_data = PatchSet(data, train_gt, PATCH_SIZE)\n",
    "val_data = PatchSet(data, val_gt, PATCH_SIZE)\n",
    "all_data = PatchSet(data, labels, PATCH_SIZE,is_pred = True)\n",
    "train_loader = DataLoader(train_data,BATCH_SIZE,shuffle= True)\n",
    "val_loader = DataLoader(val_data,BATCH_SIZE,shuffle= True)\n",
    "all_loader = DataLoader(all_data,BATCH_SIZE,shuffle= False)"
   ]
  },
  {
   "cell_type": "code",
   "execution_count": null,
   "metadata": {},
   "outputs": [
    {
     "data": {
      "text/plain": [
       "(torch.Size([50, 50, 50]), tensor(11))"
      ]
     },
     "execution_count": 14,
     "metadata": {},
     "output_type": "execute_result"
    }
   ],
   "source": [
    "d,g=train_data.__getitem__(0)\n",
    "d.shape,g"
   ]
  },
  {
   "cell_type": "markdown",
   "metadata": {},
   "source": [
    "## Model"
   ]
  },
  {
   "cell_type": "code",
   "execution_count": null,
   "metadata": {},
   "outputs": [],
   "source": [
    "class WaveletCNN(nn.Module):\n",
    "    def __init__(self, in_channels, class_nums, levels=4):\n",
    "        super(WaveletCNN, self).__init__()\n",
    "        self.levels = levels\n",
    "        self.dwt = nn.ModuleList([DWTForward(J=1, mode='zero', wave='db1') for _ in range(levels)])\n",
    "\n",
    "        self.projections = nn.ModuleList()\n",
    "        self.conv_blocks = nn.ModuleList()\n",
    "\n",
    "        for i in range(levels):\n",
    "            input_channels = in_channels + 3 * in_channels + sum(64 * (j + 1) for j in range(i))\n",
    "            output_channels = 64 * (i + 1)\n",
    "            \n",
    "            \n",
    "            self.projections.append(nn.Conv2d(input_channels, output_channels, kernel_size=1))\n",
    "\n",
    "            \n",
    "            self.conv_blocks.append(nn.Sequential(\n",
    "                nn.Conv2d(output_channels, output_channels, kernel_size=3, padding=1),\n",
    "                nn.BatchNorm2d(output_channels),\n",
    "                nn.ReLU(inplace=True)\n",
    "            ))\n",
    "\n",
    "    \n",
    "        self.global_pool = nn.AdaptiveAvgPool2d((1, 1))\n",
    "        self.fc = nn.Linear(sum(64 * (i + 1) for i in range(levels)), class_nums)\n",
    "\n",
    "    def forward(self, x):\n",
    "        features = []\n",
    "        low_pass = x\n",
    "\n",
    "        for i in range(self.levels):\n",
    "          \n",
    "            low_pass, high_pass = self.dwt[i](low_pass)\n",
    "            batch_size, channels, height, width = low_pass.shape\n",
    "            _, high_pass_channels, subbands, _, _ = high_pass[0].shape\n",
    "\n",
    "           \n",
    "            high_pass = high_pass[0].view(batch_size, high_pass_channels * subbands, height, width)\n",
    "\n",
    "            \n",
    "            resized_features = [\n",
    "                F.interpolate(feat, size=(height, width), mode='bilinear', align_corners=False)\n",
    "                for feat in features\n",
    "            ]\n",
    "\n",
    "            \n",
    "            concatenated = torch.cat([low_pass, high_pass] + resized_features, dim=1)\n",
    "\n",
    "            \n",
    "            projected = self.projections[i](concatenated)\n",
    "            conv_out = self.conv_blocks[i](projected)\n",
    "\n",
    "            \n",
    "            features.append(conv_out)\n",
    "\n",
    "       \n",
    "        smallest_height, smallest_width = features[-1].shape[2:]\n",
    "        resized_features = [\n",
    "            F.interpolate(feat, size=(smallest_height, smallest_width), mode='bilinear', align_corners=False)\n",
    "            for feat in features\n",
    "        ]\n",
    "\n",
    "        \n",
    "        out = torch.cat(resized_features, dim=1)\n",
    "\n",
    "       \n",
    "        out = self.global_pool(out)\n",
    "        out = torch.flatten(out, 1)\n",
    "        out = self.fc(out)\n",
    "        return out\n",
    "\n",
    "\n",
    "\n",
    "\n"
   ]
  },
  {
   "cell_type": "code",
   "execution_count": null,
   "metadata": {},
   "outputs": [
    {
     "name": "stdout",
     "output_type": "stream",
     "text": [
      "Input tensor shape: torch.Size([1, 50, 50, 50])\n"
     ]
    },
    {
     "data": {
      "text/plain": [
       "==================================================================================================================================\n",
       "Layer (type (var_name))                  Param #            Kernel Shape       Mult-Adds          Input Shape        Output Shape\n",
       "==================================================================================================================================\n",
       "WaveletCNN (WaveletCNN)                  --                 --                 --                 [1, 50, 50, 50]    [1, 14]\n",
       "├─ModuleList (dwt)                       --                 --                 --                 --                 --\n",
       "│    └─DWTForward (0)                    --                 --                 --                 [1, 50, 50, 50]    [1, 50, 25, 25]\n",
       "├─ModuleList (projections)               (recursive)        --                 --                 --                 --\n",
       "│    └─Conv2d (0)                        12,864             [1, 1]             8,040,000          [1, 200, 25, 25]   [1, 64, 25, 25]\n",
       "├─ModuleList (conv_blocks)               (recursive)        --                 --                 --                 --\n",
       "│    └─Sequential (0)                    --                 --                 --                 [1, 64, 25, 25]    [1, 64, 25, 25]\n",
       "│    │    └─Conv2d (0)                   36,928             [3, 3]             23,080,000         [1, 64, 25, 25]    [1, 64, 25, 25]\n",
       "│    │    └─BatchNorm2d (1)              128                --                 128                [1, 64, 25, 25]    [1, 64, 25, 25]\n",
       "│    │    └─ReLU (2)                     --                 --                 --                 [1, 64, 25, 25]    [1, 64, 25, 25]\n",
       "├─ModuleList (dwt)                       --                 --                 --                 --                 --\n",
       "│    └─DWTForward (1)                    --                 --                 --                 [1, 50, 25, 25]    [1, 50, 13, 13]\n",
       "├─ModuleList (projections)               (recursive)        --                 --                 --                 --\n",
       "│    └─Conv2d (1)                        33,920             [1, 1]             5,732,480          [1, 264, 13, 13]   [1, 128, 13, 13]\n",
       "├─ModuleList (conv_blocks)               (recursive)        --                 --                 --                 --\n",
       "│    └─Sequential (1)                    --                 --                 --                 [1, 128, 13, 13]   [1, 128, 13, 13]\n",
       "│    │    └─Conv2d (0)                   147,584            [3, 3]             24,941,696         [1, 128, 13, 13]   [1, 128, 13, 13]\n",
       "│    │    └─BatchNorm2d (1)              256                --                 256                [1, 128, 13, 13]   [1, 128, 13, 13]\n",
       "│    │    └─ReLU (2)                     --                 --                 --                 [1, 128, 13, 13]   [1, 128, 13, 13]\n",
       "├─ModuleList (dwt)                       --                 --                 --                 --                 --\n",
       "│    └─DWTForward (2)                    --                 --                 --                 [1, 50, 13, 13]    [1, 50, 7, 7]\n",
       "├─ModuleList (projections)               (recursive)        --                 --                 --                 --\n",
       "│    └─Conv2d (2)                        75,456             [1, 1]             3,697,344          [1, 392, 7, 7]     [1, 192, 7, 7]\n",
       "├─ModuleList (conv_blocks)               (recursive)        --                 --                 --                 --\n",
       "│    └─Sequential (2)                    --                 --                 --                 [1, 192, 7, 7]     [1, 192, 7, 7]\n",
       "│    │    └─Conv2d (0)                   331,968            [3, 3]             16,266,432         [1, 192, 7, 7]     [1, 192, 7, 7]\n",
       "│    │    └─BatchNorm2d (1)              384                --                 384                [1, 192, 7, 7]     [1, 192, 7, 7]\n",
       "│    │    └─ReLU (2)                     --                 --                 --                 [1, 192, 7, 7]     [1, 192, 7, 7]\n",
       "├─ModuleList (dwt)                       --                 --                 --                 --                 --\n",
       "│    └─DWTForward (3)                    --                 --                 --                 [1, 50, 7, 7]      [1, 50, 4, 4]\n",
       "├─ModuleList (projections)               (recursive)        --                 --                 --                 --\n",
       "│    └─Conv2d (3)                        149,760            [1, 1]             2,396,160          [1, 584, 4, 4]     [1, 256, 4, 4]\n",
       "├─ModuleList (conv_blocks)               (recursive)        --                 --                 --                 --\n",
       "│    └─Sequential (3)                    --                 --                 --                 [1, 256, 4, 4]     [1, 256, 4, 4]\n",
       "│    │    └─Conv2d (0)                   590,080            [3, 3]             9,441,280          [1, 256, 4, 4]     [1, 256, 4, 4]\n",
       "│    │    └─BatchNorm2d (1)              512                --                 512                [1, 256, 4, 4]     [1, 256, 4, 4]\n",
       "│    │    └─ReLU (2)                     --                 --                 --                 [1, 256, 4, 4]     [1, 256, 4, 4]\n",
       "├─AdaptiveAvgPool2d (global_pool)        --                 --                 --                 [1, 640, 4, 4]     [1, 640, 1, 1]\n",
       "├─Linear (fc)                            8,974              --                 8,974              [1, 640]           [1, 14]\n",
       "==================================================================================================================================\n",
       "Total params: 1,388,814\n",
       "Trainable params: 1,388,814\n",
       "Non-trainable params: 0\n",
       "Total mult-adds (Units.MEGABYTES): 93.61\n",
       "==================================================================================================================================\n",
       "Input size (MB): 0.50\n",
       "Forward/backward pass size (MB): 1.80\n",
       "Params size (MB): 5.56\n",
       "Estimated Total Size (MB): 7.86\n",
       "=================================================================================================================================="
      ]
     },
     "execution_count": 16,
     "metadata": {},
     "output_type": "execute_result"
    }
   ],
   "source": [
    "# Initialize the model\n",
    "net = WaveletCNN(in_channels=N_PCA, class_nums=NUM_CLASS)\n",
    "\n",
    "# Input tensor\n",
    "input_tensor = torch.randn(1, N_PCA, PATCH_SIZE, PATCH_SIZE)\n",
    "print(f\"Input tensor shape: {input_tensor.shape}\")\n",
    "\n",
    "# Model summary\n",
    "summary(\n",
    "    net,\n",
    "    input_size=(1, N_PCA, PATCH_SIZE, PATCH_SIZE),\n",
    "    col_names=['num_params', 'kernel_size', 'mult_adds', 'input_size', 'output_size'],\n",
    "    col_width=18,\n",
    "    row_settings=['var_names'],\n",
    "    depth=4,\n",
    ")"
   ]
  },
  {
   "cell_type": "markdown",
   "metadata": {},
   "source": [
    "## Training"
   ]
  },
  {
   "cell_type": "code",
   "execution_count": null,
   "metadata": {},
   "outputs": [
    {
     "name": "stderr",
     "output_type": "stream",
     "text": [
      "100%|██████████| 3/3 [00:00<00:00,  5.02it/s]it/s]\n",
      "Training::   1%|          | 1/100 [00:00<00:59,  1.67it/s]"
     ]
    },
    {
     "name": "stdout",
     "output_type": "stream",
     "text": [
      "epoch 0/100 loss:0.009568143649940634  acc:0.45131086142322097\n"
     ]
    },
    {
     "name": "stderr",
     "output_type": "stream",
     "text": [
      "100%|██████████| 3/3 [00:00<00:00,  7.44it/s]\n",
      "Training::   2%|▏         | 2/100 [00:01<00:47,  2.06it/s]"
     ]
    },
    {
     "name": "stdout",
     "output_type": "stream",
     "text": [
      "epoch 1/100 loss:0.003984945208838816  acc:0.8014981273408239\n"
     ]
    },
    {
     "name": "stderr",
     "output_type": "stream",
     "text": [
      "100%|██████████| 3/3 [00:00<00:00,  6.88it/s]\n",
      "Training::   3%|▎         | 3/100 [00:01<00:45,  2.15it/s]"
     ]
    },
    {
     "name": "stdout",
     "output_type": "stream",
     "text": [
      "epoch 2/100 loss:0.0025990245382437544  acc:0.8857677902621723\n"
     ]
    },
    {
     "name": "stderr",
     "output_type": "stream",
     "text": [
      "100%|██████████| 3/3 [00:00<00:00,  6.85it/s]\n",
      "Training::   4%|▍         | 4/100 [00:01<00:43,  2.20it/s]"
     ]
    },
    {
     "name": "stdout",
     "output_type": "stream",
     "text": [
      "epoch 3/100 loss:0.002087190468213085  acc:0.9531835205992509\n"
     ]
    },
    {
     "name": "stderr",
     "output_type": "stream",
     "text": [
      "100%|██████████| 3/3 [00:00<00:00,  6.99it/s]\n"
     ]
    },
    {
     "name": "stdout",
     "output_type": "stream",
     "text": [
      "epoch 4/100 loss:0.001685771993483497  acc:0.9794007490636704\n"
     ]
    },
    {
     "name": "stderr",
     "output_type": "stream",
     "text": [
      "100%|██████████| 3/3 [00:00<00:00,  7.26it/s]\n",
      "Training::   5%|▌         | 5/100 [00:02<00:57,  1.67it/s]"
     ]
    },
    {
     "name": "stdout",
     "output_type": "stream",
     "text": [
      "epoch 4/100  val_acc:0.9719101123595506\n",
      "Epoch 5/100 completed in 0.86 seconds.\n"
     ]
    },
    {
     "name": "stderr",
     "output_type": "stream",
     "text": [
      "100%|██████████| 3/3 [00:00<00:00,  6.87it/s]\n",
      "Training::   6%|▌         | 6/100 [00:03<00:51,  1.83it/s]"
     ]
    },
    {
     "name": "stdout",
     "output_type": "stream",
     "text": [
      "epoch 5/100 loss:0.0017356206192059463  acc:0.9794007490636704\n"
     ]
    },
    {
     "name": "stderr",
     "output_type": "stream",
     "text": [
      "100%|██████████| 3/3 [00:00<00:00,  7.00it/s]\n",
      "Training::   7%|▋         | 7/100 [00:03<00:47,  1.97it/s]"
     ]
    },
    {
     "name": "stdout",
     "output_type": "stream",
     "text": [
      "epoch 6/100 loss:0.0011408782183900755  acc:0.9775280898876404\n"
     ]
    },
    {
     "name": "stderr",
     "output_type": "stream",
     "text": [
      "100%|██████████| 3/3 [00:00<00:00,  6.84it/s]\n",
      "Training::   8%|▊         | 8/100 [00:04<00:44,  2.05it/s]"
     ]
    },
    {
     "name": "stdout",
     "output_type": "stream",
     "text": [
      "epoch 7/100 loss:0.0012076988760451699  acc:0.9700374531835206\n"
     ]
    },
    {
     "name": "stderr",
     "output_type": "stream",
     "text": [
      "100%|██████████| 3/3 [00:00<00:00,  6.98it/s]\n",
      "Training::   9%|▉         | 9/100 [00:04<00:42,  2.13it/s]"
     ]
    },
    {
     "name": "stdout",
     "output_type": "stream",
     "text": [
      "epoch 8/100 loss:0.0009836938218231058  acc:0.9756554307116105\n"
     ]
    },
    {
     "name": "stderr",
     "output_type": "stream",
     "text": [
      "100%|██████████| 3/3 [00:00<00:00,  6.92it/s]\n"
     ]
    },
    {
     "name": "stdout",
     "output_type": "stream",
     "text": [
      "epoch 9/100 loss:0.000855366640099872  acc:0.9868913857677902\n"
     ]
    },
    {
     "name": "stderr",
     "output_type": "stream",
     "text": [
      "100%|██████████| 3/3 [00:00<00:00,  7.33it/s]\n",
      "Training::  10%|█         | 10/100 [00:05<00:53,  1.70it/s]"
     ]
    },
    {
     "name": "stdout",
     "output_type": "stream",
     "text": [
      "epoch 9/100  val_acc:0.9794007490636704\n",
      "Epoch 10/100 completed in 0.86 seconds.\n"
     ]
    },
    {
     "name": "stderr",
     "output_type": "stream",
     "text": [
      "100%|██████████| 3/3 [00:00<00:00,  7.01it/s]\n",
      "Training::  11%|█         | 11/100 [00:05<00:48,  1.85it/s]"
     ]
    },
    {
     "name": "stdout",
     "output_type": "stream",
     "text": [
      "epoch 10/100 loss:0.0006303524507788683  acc:0.9887640449438202\n"
     ]
    },
    {
     "name": "stderr",
     "output_type": "stream",
     "text": [
      "100%|██████████| 3/3 [00:00<00:00,  6.84it/s]\n",
      "Training::  12%|█▏        | 12/100 [00:06<00:44,  1.96it/s]"
     ]
    },
    {
     "name": "stdout",
     "output_type": "stream",
     "text": [
      "epoch 11/100 loss:0.0005357105577929636  acc:0.9943820224719101\n"
     ]
    },
    {
     "name": "stderr",
     "output_type": "stream",
     "text": [
      "100%|██████████| 3/3 [00:00<00:00,  7.01it/s]\n",
      "Training::  13%|█▎        | 13/100 [00:06<00:42,  2.06it/s]"
     ]
    },
    {
     "name": "stdout",
     "output_type": "stream",
     "text": [
      "epoch 12/100 loss:0.0004909113886651028  acc:0.99812734082397\n"
     ]
    },
    {
     "name": "stderr",
     "output_type": "stream",
     "text": [
      "100%|██████████| 3/3 [00:00<00:00,  6.77it/s]\n",
      "Training::  14%|█▍        | 14/100 [00:07<00:40,  2.11it/s]"
     ]
    },
    {
     "name": "stdout",
     "output_type": "stream",
     "text": [
      "epoch 13/100 loss:0.0005232494477922104  acc:0.9962546816479401\n"
     ]
    },
    {
     "name": "stderr",
     "output_type": "stream",
     "text": [
      "100%|██████████| 3/3 [00:00<00:00,  6.75it/s]\n"
     ]
    },
    {
     "name": "stdout",
     "output_type": "stream",
     "text": [
      "epoch 14/100 loss:0.00043738623627562645  acc:1.0\n"
     ]
    },
    {
     "name": "stderr",
     "output_type": "stream",
     "text": [
      "100%|██████████| 3/3 [00:00<00:00,  7.23it/s]\n",
      "Training::  15%|█▌        | 15/100 [00:07<00:50,  1.68it/s]"
     ]
    },
    {
     "name": "stdout",
     "output_type": "stream",
     "text": [
      "epoch 14/100  val_acc:0.9831460674157303\n",
      "Epoch 15/100 completed in 0.87 seconds.\n"
     ]
    },
    {
     "name": "stderr",
     "output_type": "stream",
     "text": [
      "100%|██████████| 3/3 [00:00<00:00,  6.65it/s]\n",
      "Training::  16%|█▌        | 16/100 [00:08<00:46,  1.81it/s]"
     ]
    },
    {
     "name": "stdout",
     "output_type": "stream",
     "text": [
      "epoch 15/100 loss:0.0004939129401682022  acc:0.9962546816479401\n"
     ]
    },
    {
     "name": "stderr",
     "output_type": "stream",
     "text": [
      "100%|██████████| 3/3 [00:00<00:00,  6.94it/s]\n",
      "Training::  17%|█▋        | 17/100 [00:08<00:42,  1.94it/s]"
     ]
    },
    {
     "name": "stdout",
     "output_type": "stream",
     "text": [
      "epoch 16/100 loss:0.00030249212118570277  acc:1.0\n"
     ]
    },
    {
     "name": "stderr",
     "output_type": "stream",
     "text": [
      "100%|██████████| 3/3 [00:00<00:00,  6.93it/s]\n",
      "Training::  18%|█▊        | 18/100 [00:09<00:40,  2.03it/s]"
     ]
    },
    {
     "name": "stdout",
     "output_type": "stream",
     "text": [
      "epoch 17/100 loss:0.0003624987833843696  acc:0.99812734082397\n"
     ]
    },
    {
     "name": "stderr",
     "output_type": "stream",
     "text": [
      "100%|██████████| 3/3 [00:00<00:00,  6.94it/s]\n",
      "Training::  19%|█▉        | 19/100 [00:09<00:38,  2.10it/s]"
     ]
    },
    {
     "name": "stdout",
     "output_type": "stream",
     "text": [
      "epoch 18/100 loss:0.0002622056250156981  acc:1.0\n"
     ]
    },
    {
     "name": "stderr",
     "output_type": "stream",
     "text": [
      "100%|██████████| 3/3 [00:00<00:00,  6.78it/s]\n"
     ]
    },
    {
     "name": "stdout",
     "output_type": "stream",
     "text": [
      "epoch 19/100 loss:0.0002478128752570027  acc:0.99812734082397\n"
     ]
    },
    {
     "name": "stderr",
     "output_type": "stream",
     "text": [
      "100%|██████████| 3/3 [00:00<00:00,  7.29it/s]\n",
      "Training::  20%|██        | 20/100 [00:10<00:47,  1.69it/s]"
     ]
    },
    {
     "name": "stdout",
     "output_type": "stream",
     "text": [
      "epoch 19/100  val_acc:0.951310861423221\n",
      "Epoch 20/100 completed in 0.87 seconds.\n"
     ]
    },
    {
     "name": "stderr",
     "output_type": "stream",
     "text": [
      "100%|██████████| 3/3 [00:00<00:00,  6.88it/s]\n",
      "Training::  21%|██        | 21/100 [00:11<00:43,  1.83it/s]"
     ]
    },
    {
     "name": "stdout",
     "output_type": "stream",
     "text": [
      "epoch 20/100 loss:0.00019889822306481193  acc:1.0\n"
     ]
    },
    {
     "name": "stderr",
     "output_type": "stream",
     "text": [
      "100%|██████████| 3/3 [00:00<00:00,  6.95it/s]\n",
      "Training::  22%|██▏       | 22/100 [00:11<00:40,  1.95it/s]"
     ]
    },
    {
     "name": "stdout",
     "output_type": "stream",
     "text": [
      "epoch 21/100 loss:0.00015368348873509897  acc:1.0\n"
     ]
    },
    {
     "name": "stderr",
     "output_type": "stream",
     "text": [
      "100%|██████████| 3/3 [00:00<00:00,  6.81it/s]\n",
      "Training::  23%|██▎       | 23/100 [00:11<00:37,  2.03it/s]"
     ]
    },
    {
     "name": "stdout",
     "output_type": "stream",
     "text": [
      "epoch 22/100 loss:0.00011222895185989834  acc:1.0\n"
     ]
    },
    {
     "name": "stderr",
     "output_type": "stream",
     "text": [
      "100%|██████████| 3/3 [00:00<00:00,  6.99it/s]\n",
      "Training::  24%|██▍       | 24/100 [00:12<00:36,  2.11it/s]"
     ]
    },
    {
     "name": "stdout",
     "output_type": "stream",
     "text": [
      "epoch 23/100 loss:0.00013676593045282008  acc:1.0\n"
     ]
    },
    {
     "name": "stderr",
     "output_type": "stream",
     "text": [
      "100%|██████████| 3/3 [00:00<00:00,  6.85it/s]\n"
     ]
    },
    {
     "name": "stdout",
     "output_type": "stream",
     "text": [
      "epoch 24/100 loss:9.422401691811361e-05  acc:1.0\n"
     ]
    },
    {
     "name": "stderr",
     "output_type": "stream",
     "text": [
      "100%|██████████| 3/3 [00:00<00:00,  7.26it/s]\n",
      "Training::  25%|██▌       | 25/100 [00:13<00:44,  1.69it/s]"
     ]
    },
    {
     "name": "stdout",
     "output_type": "stream",
     "text": [
      "epoch 24/100  val_acc:0.9925093632958801\n",
      "Epoch 25/100 completed in 0.87 seconds.\n"
     ]
    },
    {
     "name": "stderr",
     "output_type": "stream",
     "text": [
      "100%|██████████| 3/3 [00:00<00:00,  7.12it/s]\n",
      "Training::  26%|██▌       | 26/100 [00:13<00:40,  1.85it/s]"
     ]
    },
    {
     "name": "stdout",
     "output_type": "stream",
     "text": [
      "epoch 25/100 loss:0.00011219508764560749  acc:1.0\n"
     ]
    },
    {
     "name": "stderr",
     "output_type": "stream",
     "text": [
      "100%|██████████| 3/3 [00:00<00:00,  6.81it/s]\n",
      "Training::  27%|██▋       | 27/100 [00:14<00:37,  1.95it/s]"
     ]
    },
    {
     "name": "stdout",
     "output_type": "stream",
     "text": [
      "epoch 26/100 loss:0.00010064626566033238  acc:1.0\n"
     ]
    },
    {
     "name": "stderr",
     "output_type": "stream",
     "text": [
      "100%|██████████| 3/3 [00:00<00:00,  7.01it/s]\n",
      "Training::  28%|██▊       | 28/100 [00:14<00:35,  2.05it/s]"
     ]
    },
    {
     "name": "stdout",
     "output_type": "stream",
     "text": [
      "epoch 27/100 loss:9.335713872637195e-05  acc:1.0\n"
     ]
    },
    {
     "name": "stderr",
     "output_type": "stream",
     "text": [
      "100%|██████████| 3/3 [00:00<00:00,  7.10it/s]\n",
      "Training::  29%|██▉       | 29/100 [00:14<00:33,  2.13it/s]"
     ]
    },
    {
     "name": "stdout",
     "output_type": "stream",
     "text": [
      "epoch 28/100 loss:0.0001178352033182253  acc:1.0\n"
     ]
    },
    {
     "name": "stderr",
     "output_type": "stream",
     "text": [
      "100%|██████████| 3/3 [00:00<00:00,  7.06it/s]\n"
     ]
    },
    {
     "name": "stdout",
     "output_type": "stream",
     "text": [
      "epoch 29/100 loss:6.901709125673727e-05  acc:1.0\n"
     ]
    },
    {
     "name": "stderr",
     "output_type": "stream",
     "text": [
      "100%|██████████| 3/3 [00:00<00:00,  7.30it/s]\n",
      "Training::  30%|███       | 30/100 [00:15<00:40,  1.71it/s]"
     ]
    },
    {
     "name": "stdout",
     "output_type": "stream",
     "text": [
      "epoch 29/100  val_acc:0.9887640449438202\n",
      "Epoch 30/100 completed in 0.85 seconds.\n"
     ]
    },
    {
     "name": "stderr",
     "output_type": "stream",
     "text": [
      "100%|██████████| 3/3 [00:00<00:00,  6.94it/s]\n",
      "Training::  31%|███       | 31/100 [00:16<00:37,  1.86it/s]"
     ]
    },
    {
     "name": "stdout",
     "output_type": "stream",
     "text": [
      "epoch 30/100 loss:5.649459942449791e-05  acc:1.0\n"
     ]
    },
    {
     "name": "stderr",
     "output_type": "stream",
     "text": [
      "100%|██████████| 3/3 [00:00<00:00,  7.60it/s]\n",
      "Training::  32%|███▏      | 32/100 [00:16<00:33,  2.01it/s]"
     ]
    },
    {
     "name": "stdout",
     "output_type": "stream",
     "text": [
      "epoch 31/100 loss:6.760258318277333e-05  acc:1.0\n"
     ]
    },
    {
     "name": "stderr",
     "output_type": "stream",
     "text": [
      "100%|██████████| 3/3 [00:00<00:00,  7.32it/s]\n",
      "Training::  33%|███▎      | 33/100 [00:17<00:31,  2.12it/s]"
     ]
    },
    {
     "name": "stdout",
     "output_type": "stream",
     "text": [
      "epoch 32/100 loss:4.49251008572315e-05  acc:1.0\n"
     ]
    },
    {
     "name": "stderr",
     "output_type": "stream",
     "text": [
      "100%|██████████| 3/3 [00:00<00:00,  7.46it/s]\n",
      "Training::  34%|███▍      | 34/100 [00:17<00:29,  2.22it/s]"
     ]
    },
    {
     "name": "stdout",
     "output_type": "stream",
     "text": [
      "epoch 33/100 loss:0.0003899671093731672  acc:0.9962546816479401\n"
     ]
    },
    {
     "name": "stderr",
     "output_type": "stream",
     "text": [
      "100%|██████████| 3/3 [00:00<00:00,  7.41it/s]\n"
     ]
    },
    {
     "name": "stdout",
     "output_type": "stream",
     "text": [
      "epoch 34/100 loss:0.00019324149183008109  acc:0.99812734082397\n"
     ]
    },
    {
     "name": "stderr",
     "output_type": "stream",
     "text": [
      "100%|██████████| 3/3 [00:00<00:00,  7.73it/s]\n",
      "Training::  35%|███▌      | 35/100 [00:18<00:36,  1.79it/s]"
     ]
    },
    {
     "name": "stdout",
     "output_type": "stream",
     "text": [
      "epoch 34/100  val_acc:0.9269662921348315\n",
      "Epoch 35/100 completed in 0.81 seconds.\n"
     ]
    },
    {
     "name": "stderr",
     "output_type": "stream",
     "text": [
      "100%|██████████| 3/3 [00:00<00:00,  7.11it/s]\n",
      "Training::  36%|███▌      | 36/100 [00:18<00:33,  1.93it/s]"
     ]
    },
    {
     "name": "stdout",
     "output_type": "stream",
     "text": [
      "epoch 35/100 loss:0.00014766753208213086  acc:0.99812734082397\n"
     ]
    },
    {
     "name": "stderr",
     "output_type": "stream",
     "text": [
      "100%|██████████| 3/3 [00:00<00:00,  7.01it/s]\n",
      "Training::  37%|███▋      | 37/100 [00:19<00:30,  2.03it/s]"
     ]
    },
    {
     "name": "stdout",
     "output_type": "stream",
     "text": [
      "epoch 36/100 loss:0.00013560819533768665  acc:1.0\n"
     ]
    },
    {
     "name": "stderr",
     "output_type": "stream",
     "text": [
      "100%|██████████| 3/3 [00:00<00:00,  7.30it/s]\n",
      "Training::  38%|███▊      | 38/100 [00:19<00:29,  2.13it/s]"
     ]
    },
    {
     "name": "stdout",
     "output_type": "stream",
     "text": [
      "epoch 37/100 loss:0.00010911019846852799  acc:1.0\n"
     ]
    },
    {
     "name": "stderr",
     "output_type": "stream",
     "text": [
      "100%|██████████| 3/3 [00:00<00:00,  7.38it/s]\n",
      "Training::  39%|███▉      | 39/100 [00:19<00:27,  2.22it/s]"
     ]
    },
    {
     "name": "stdout",
     "output_type": "stream",
     "text": [
      "epoch 38/100 loss:7.407016152243936e-05  acc:1.0\n"
     ]
    },
    {
     "name": "stderr",
     "output_type": "stream",
     "text": [
      "100%|██████████| 3/3 [00:00<00:00,  6.97it/s]\n"
     ]
    },
    {
     "name": "stdout",
     "output_type": "stream",
     "text": [
      "epoch 39/100 loss:7.332319547230385e-05  acc:1.0\n"
     ]
    },
    {
     "name": "stderr",
     "output_type": "stream",
     "text": [
      "100%|██████████| 3/3 [00:00<00:00,  7.60it/s]\n",
      "Training::  40%|████      | 40/100 [00:20<00:34,  1.76it/s]"
     ]
    },
    {
     "name": "stdout",
     "output_type": "stream",
     "text": [
      "epoch 39/100  val_acc:0.9756554307116105\n",
      "Epoch 40/100 completed in 0.84 seconds.\n"
     ]
    },
    {
     "name": "stderr",
     "output_type": "stream",
     "text": [
      "100%|██████████| 3/3 [00:00<00:00,  7.28it/s]\n",
      "Training::  41%|████      | 41/100 [00:21<00:30,  1.92it/s]"
     ]
    },
    {
     "name": "stdout",
     "output_type": "stream",
     "text": [
      "epoch 40/100 loss:0.00010279352577884546  acc:1.0\n"
     ]
    },
    {
     "name": "stderr",
     "output_type": "stream",
     "text": [
      "100%|██████████| 3/3 [00:00<00:00,  7.62it/s]\n",
      "Training::  42%|████▏     | 42/100 [00:21<00:28,  2.06it/s]"
     ]
    },
    {
     "name": "stdout",
     "output_type": "stream",
     "text": [
      "epoch 41/100 loss:4.310401379783055e-05  acc:1.0\n"
     ]
    },
    {
     "name": "stderr",
     "output_type": "stream",
     "text": [
      "100%|██████████| 3/3 [00:00<00:00,  7.58it/s]\n",
      "Training::  43%|████▎     | 43/100 [00:21<00:26,  2.18it/s]"
     ]
    },
    {
     "name": "stdout",
     "output_type": "stream",
     "text": [
      "epoch 42/100 loss:8.146575746241581e-05  acc:0.9962546816479401\n"
     ]
    },
    {
     "name": "stderr",
     "output_type": "stream",
     "text": [
      "100%|██████████| 3/3 [00:00<00:00,  7.15it/s]\n",
      "Training::  44%|████▍     | 44/100 [00:22<00:25,  2.23it/s]"
     ]
    },
    {
     "name": "stdout",
     "output_type": "stream",
     "text": [
      "epoch 43/100 loss:5.099628720613901e-05  acc:1.0\n"
     ]
    },
    {
     "name": "stderr",
     "output_type": "stream",
     "text": [
      "100%|██████████| 3/3 [00:00<00:00,  7.83it/s]\n"
     ]
    },
    {
     "name": "stdout",
     "output_type": "stream",
     "text": [
      "epoch 44/100 loss:3.548284943742252e-05  acc:1.0\n"
     ]
    },
    {
     "name": "stderr",
     "output_type": "stream",
     "text": [
      "100%|██████████| 3/3 [00:00<00:00,  7.78it/s]\n",
      "Training::  45%|████▌     | 45/100 [00:23<00:30,  1.82it/s]"
     ]
    },
    {
     "name": "stdout",
     "output_type": "stream",
     "text": [
      "epoch 44/100  val_acc:0.9868913857677902\n",
      "Epoch 45/100 completed in 0.78 seconds.\n"
     ]
    },
    {
     "name": "stderr",
     "output_type": "stream",
     "text": [
      "100%|██████████| 3/3 [00:00<00:00,  7.60it/s]\n",
      "Training::  46%|████▌     | 46/100 [00:23<00:27,  1.99it/s]"
     ]
    },
    {
     "name": "stdout",
     "output_type": "stream",
     "text": [
      "epoch 45/100 loss:7.454721232673871e-05  acc:1.0\n"
     ]
    },
    {
     "name": "stderr",
     "output_type": "stream",
     "text": [
      "100%|██████████| 3/3 [00:00<00:00,  7.15it/s]\n",
      "Training::  47%|████▋     | 47/100 [00:23<00:25,  2.09it/s]"
     ]
    },
    {
     "name": "stdout",
     "output_type": "stream",
     "text": [
      "epoch 46/100 loss:4.024243536876159e-05  acc:1.0\n"
     ]
    },
    {
     "name": "stderr",
     "output_type": "stream",
     "text": [
      "100%|██████████| 3/3 [00:00<00:00,  7.48it/s]\n",
      "Training::  48%|████▊     | 48/100 [00:24<00:23,  2.19it/s]"
     ]
    },
    {
     "name": "stdout",
     "output_type": "stream",
     "text": [
      "epoch 47/100 loss:3.23036638496632e-05  acc:1.0\n"
     ]
    },
    {
     "name": "stderr",
     "output_type": "stream",
     "text": [
      "100%|██████████| 3/3 [00:00<00:00,  7.50it/s]\n",
      "Training::  49%|████▉     | 49/100 [00:24<00:22,  2.27it/s]"
     ]
    },
    {
     "name": "stdout",
     "output_type": "stream",
     "text": [
      "epoch 48/100 loss:3.859869288175963e-05  acc:1.0\n"
     ]
    },
    {
     "name": "stderr",
     "output_type": "stream",
     "text": [
      "100%|██████████| 3/3 [00:00<00:00,  7.53it/s]\n"
     ]
    },
    {
     "name": "stdout",
     "output_type": "stream",
     "text": [
      "epoch 49/100 loss:2.659776261990213e-05  acc:1.0\n"
     ]
    },
    {
     "name": "stderr",
     "output_type": "stream",
     "text": [
      "100%|██████████| 3/3 [00:00<00:00,  8.12it/s]\n",
      "Training::  50%|█████     | 50/100 [00:25<00:27,  1.84it/s]"
     ]
    },
    {
     "name": "stdout",
     "output_type": "stream",
     "text": [
      "epoch 49/100  val_acc:0.9906367041198502\n",
      "Epoch 50/100 completed in 0.78 seconds.\n"
     ]
    },
    {
     "name": "stderr",
     "output_type": "stream",
     "text": [
      "100%|██████████| 3/3 [00:00<00:00,  7.69it/s]\n",
      "Training::  51%|█████     | 51/100 [00:25<00:24,  2.01it/s]"
     ]
    },
    {
     "name": "stdout",
     "output_type": "stream",
     "text": [
      "epoch 50/100 loss:2.156222833857666e-05  acc:1.0\n"
     ]
    },
    {
     "name": "stderr",
     "output_type": "stream",
     "text": [
      "100%|██████████| 3/3 [00:00<00:00,  7.52it/s]\n",
      "Training::  52%|█████▏    | 52/100 [00:26<00:22,  2.13it/s]"
     ]
    },
    {
     "name": "stdout",
     "output_type": "stream",
     "text": [
      "epoch 51/100 loss:4.966734439371789e-05  acc:1.0\n"
     ]
    },
    {
     "name": "stderr",
     "output_type": "stream",
     "text": [
      "100%|██████████| 3/3 [00:00<00:00,  7.73it/s]\n",
      "Training::  53%|█████▎    | 53/100 [00:26<00:20,  2.24it/s]"
     ]
    },
    {
     "name": "stdout",
     "output_type": "stream",
     "text": [
      "epoch 52/100 loss:2.4989689002685557e-05  acc:1.0\n"
     ]
    },
    {
     "name": "stderr",
     "output_type": "stream",
     "text": [
      "100%|██████████| 3/3 [00:00<00:00,  7.33it/s]\n",
      "Training::  54%|█████▍    | 54/100 [00:27<00:20,  2.30it/s]"
     ]
    },
    {
     "name": "stdout",
     "output_type": "stream",
     "text": [
      "epoch 53/100 loss:3.233738069174888e-05  acc:1.0\n"
     ]
    },
    {
     "name": "stderr",
     "output_type": "stream",
     "text": [
      "100%|██████████| 3/3 [00:00<00:00,  6.93it/s]\n"
     ]
    },
    {
     "name": "stdout",
     "output_type": "stream",
     "text": [
      "epoch 54/100 loss:2.8892394943574393e-05  acc:1.0\n"
     ]
    },
    {
     "name": "stderr",
     "output_type": "stream",
     "text": [
      "100%|██████████| 3/3 [00:00<00:00,  7.04it/s]\n",
      "Training::  55%|█████▌    | 55/100 [00:28<00:25,  1.76it/s]"
     ]
    },
    {
     "name": "stdout",
     "output_type": "stream",
     "text": [
      "epoch 54/100  val_acc:0.9868913857677902\n",
      "Epoch 55/100 completed in 0.88 seconds.\n"
     ]
    },
    {
     "name": "stderr",
     "output_type": "stream",
     "text": [
      "100%|██████████| 3/3 [00:00<00:00,  7.00it/s]\n",
      "Training::  56%|█████▌    | 56/100 [00:28<00:23,  1.90it/s]"
     ]
    },
    {
     "name": "stdout",
     "output_type": "stream",
     "text": [
      "epoch 55/100 loss:1.580116848290413e-05  acc:1.0\n"
     ]
    },
    {
     "name": "stderr",
     "output_type": "stream",
     "text": [
      "100%|██████████| 3/3 [00:00<00:00,  7.46it/s]\n",
      "Training::  57%|█████▋    | 57/100 [00:28<00:21,  2.04it/s]"
     ]
    },
    {
     "name": "stdout",
     "output_type": "stream",
     "text": [
      "epoch 56/100 loss:1.512951050162985e-05  acc:1.0\n"
     ]
    },
    {
     "name": "stderr",
     "output_type": "stream",
     "text": [
      "100%|██████████| 3/3 [00:00<00:00,  7.36it/s]\n",
      "Training::  58%|█████▊    | 58/100 [00:29<00:19,  2.14it/s]"
     ]
    },
    {
     "name": "stdout",
     "output_type": "stream",
     "text": [
      "epoch 57/100 loss:4.557919930945733e-05  acc:1.0\n"
     ]
    },
    {
     "name": "stderr",
     "output_type": "stream",
     "text": [
      "100%|██████████| 3/3 [00:00<00:00,  7.42it/s]\n",
      "Training::  59%|█████▉    | 59/100 [00:29<00:18,  2.23it/s]"
     ]
    },
    {
     "name": "stdout",
     "output_type": "stream",
     "text": [
      "epoch 58/100 loss:1.4800910161257013e-05  acc:1.0\n"
     ]
    },
    {
     "name": "stderr",
     "output_type": "stream",
     "text": [
      "100%|██████████| 3/3 [00:00<00:00,  7.55it/s]\n"
     ]
    },
    {
     "name": "stdout",
     "output_type": "stream",
     "text": [
      "epoch 59/100 loss:9.39350522887171e-05  acc:1.0\n"
     ]
    },
    {
     "name": "stderr",
     "output_type": "stream",
     "text": [
      "100%|██████████| 3/3 [00:00<00:00,  7.62it/s]\n",
      "Training::  60%|██████    | 60/100 [00:30<00:22,  1.80it/s]"
     ]
    },
    {
     "name": "stdout",
     "output_type": "stream",
     "text": [
      "epoch 59/100  val_acc:0.9812734082397003\n",
      "Epoch 60/100 completed in 0.81 seconds.\n"
     ]
    },
    {
     "name": "stderr",
     "output_type": "stream",
     "text": [
      "100%|██████████| 3/3 [00:00<00:00,  7.71it/s]\n",
      "Training::  61%|██████    | 61/100 [00:30<00:19,  1.97it/s]"
     ]
    },
    {
     "name": "stdout",
     "output_type": "stream",
     "text": [
      "epoch 60/100 loss:5.6813530752972496e-05  acc:1.0\n"
     ]
    },
    {
     "name": "stderr",
     "output_type": "stream",
     "text": [
      "100%|██████████| 3/3 [00:00<00:00,  7.49it/s]\n",
      "Training::  62%|██████▏   | 62/100 [00:31<00:18,  2.10it/s]"
     ]
    },
    {
     "name": "stdout",
     "output_type": "stream",
     "text": [
      "epoch 61/100 loss:3.0279756882943018e-05  acc:1.0\n"
     ]
    },
    {
     "name": "stderr",
     "output_type": "stream",
     "text": [
      "100%|██████████| 3/3 [00:00<00:00,  7.15it/s]\n",
      "Training::  63%|██████▎   | 63/100 [00:31<00:17,  2.17it/s]"
     ]
    },
    {
     "name": "stdout",
     "output_type": "stream",
     "text": [
      "epoch 62/100 loss:3.5968851577141755e-05  acc:1.0\n"
     ]
    },
    {
     "name": "stderr",
     "output_type": "stream",
     "text": [
      "100%|██████████| 3/3 [00:00<00:00,  7.42it/s]\n",
      "Training::  64%|██████▍   | 64/100 [00:32<00:15,  2.25it/s]"
     ]
    },
    {
     "name": "stdout",
     "output_type": "stream",
     "text": [
      "epoch 63/100 loss:2.0951768191538277e-05  acc:1.0\n"
     ]
    },
    {
     "name": "stderr",
     "output_type": "stream",
     "text": [
      "100%|██████████| 3/3 [00:00<00:00,  7.24it/s]\n"
     ]
    },
    {
     "name": "stdout",
     "output_type": "stream",
     "text": [
      "epoch 64/100 loss:1.7884734159942424e-05  acc:1.0\n"
     ]
    },
    {
     "name": "stderr",
     "output_type": "stream",
     "text": [
      "100%|██████████| 3/3 [00:00<00:00,  7.19it/s]\n",
      "Training::  65%|██████▌   | 65/100 [00:32<00:19,  1.77it/s]"
     ]
    },
    {
     "name": "stdout",
     "output_type": "stream",
     "text": [
      "epoch 64/100  val_acc:0.9775280898876404\n",
      "Epoch 65/100 completed in 0.85 seconds.\n"
     ]
    },
    {
     "name": "stderr",
     "output_type": "stream",
     "text": [
      "100%|██████████| 3/3 [00:00<00:00,  6.85it/s]\n",
      "Training::  66%|██████▌   | 66/100 [00:33<00:17,  1.89it/s]"
     ]
    },
    {
     "name": "stdout",
     "output_type": "stream",
     "text": [
      "epoch 65/100 loss:1.6526375768169036e-05  acc:1.0\n"
     ]
    },
    {
     "name": "stderr",
     "output_type": "stream",
     "text": [
      "100%|██████████| 3/3 [00:00<00:00,  7.56it/s]\n",
      "Training::  67%|██████▋   | 67/100 [00:33<00:16,  2.04it/s]"
     ]
    },
    {
     "name": "stdout",
     "output_type": "stream",
     "text": [
      "epoch 66/100 loss:1.064517137625914e-05  acc:1.0\n"
     ]
    },
    {
     "name": "stderr",
     "output_type": "stream",
     "text": [
      "100%|██████████| 3/3 [00:00<00:00,  7.57it/s]\n",
      "Training::  68%|██████▊   | 68/100 [00:34<00:14,  2.16it/s]"
     ]
    },
    {
     "name": "stdout",
     "output_type": "stream",
     "text": [
      "epoch 67/100 loss:1.976911234930995e-05  acc:1.0\n"
     ]
    },
    {
     "name": "stderr",
     "output_type": "stream",
     "text": [
      "100%|██████████| 3/3 [00:00<00:00,  7.45it/s]\n",
      "Training::  69%|██████▉   | 69/100 [00:34<00:13,  2.25it/s]"
     ]
    },
    {
     "name": "stdout",
     "output_type": "stream",
     "text": [
      "epoch 68/100 loss:1.113291233359428e-05  acc:1.0\n"
     ]
    },
    {
     "name": "stderr",
     "output_type": "stream",
     "text": [
      "100%|██████████| 3/3 [00:00<00:00,  7.13it/s]\n"
     ]
    },
    {
     "name": "stdout",
     "output_type": "stream",
     "text": [
      "epoch 69/100 loss:8.911238843749525e-06  acc:1.0\n"
     ]
    },
    {
     "name": "stderr",
     "output_type": "stream",
     "text": [
      "100%|██████████| 3/3 [00:00<00:00,  7.99it/s]\n",
      "Training::  70%|███████   | 70/100 [00:35<00:16,  1.80it/s]"
     ]
    },
    {
     "name": "stdout",
     "output_type": "stream",
     "text": [
      "epoch 69/100  val_acc:0.9812734082397003\n",
      "Epoch 70/100 completed in 0.81 seconds.\n"
     ]
    },
    {
     "name": "stderr",
     "output_type": "stream",
     "text": [
      "100%|██████████| 3/3 [00:00<00:00,  7.41it/s]\n",
      "Training::  71%|███████   | 71/100 [00:35<00:14,  1.95it/s]"
     ]
    },
    {
     "name": "stdout",
     "output_type": "stream",
     "text": [
      "epoch 70/100 loss:1.2050150616324685e-05  acc:1.0\n"
     ]
    },
    {
     "name": "stderr",
     "output_type": "stream",
     "text": [
      "100%|██████████| 3/3 [00:00<00:00,  7.25it/s]\n",
      "Training::  72%|███████▏  | 72/100 [00:36<00:13,  2.07it/s]"
     ]
    },
    {
     "name": "stdout",
     "output_type": "stream",
     "text": [
      "epoch 71/100 loss:8.78906183551704e-06  acc:1.0\n"
     ]
    },
    {
     "name": "stderr",
     "output_type": "stream",
     "text": [
      "100%|██████████| 3/3 [00:00<00:00,  7.27it/s]\n",
      "Training::  73%|███████▎  | 73/100 [00:36<00:12,  2.16it/s]"
     ]
    },
    {
     "name": "stdout",
     "output_type": "stream",
     "text": [
      "epoch 72/100 loss:1.0530669931043289e-05  acc:1.0\n"
     ]
    },
    {
     "name": "stderr",
     "output_type": "stream",
     "text": [
      "100%|██████████| 3/3 [00:00<00:00,  7.33it/s]\n",
      "Training::  74%|███████▍  | 74/100 [00:37<00:11,  2.23it/s]"
     ]
    },
    {
     "name": "stdout",
     "output_type": "stream",
     "text": [
      "epoch 73/100 loss:1.1842492714956794e-05  acc:1.0\n"
     ]
    },
    {
     "name": "stderr",
     "output_type": "stream",
     "text": [
      "100%|██████████| 3/3 [00:00<00:00,  7.46it/s]\n"
     ]
    },
    {
     "name": "stdout",
     "output_type": "stream",
     "text": [
      "epoch 74/100 loss:2.2572179652806303e-05  acc:1.0\n"
     ]
    },
    {
     "name": "stderr",
     "output_type": "stream",
     "text": [
      "100%|██████████| 3/3 [00:00<00:00,  7.65it/s]\n",
      "Training::  75%|███████▌  | 75/100 [00:37<00:13,  1.80it/s]"
     ]
    },
    {
     "name": "stdout",
     "output_type": "stream",
     "text": [
      "epoch 74/100  val_acc:0.9850187265917603\n",
      "Epoch 75/100 completed in 0.81 seconds.\n"
     ]
    },
    {
     "name": "stderr",
     "output_type": "stream",
     "text": [
      "100%|██████████| 3/3 [00:00<00:00,  7.41it/s]\n",
      "Training::  76%|███████▌  | 76/100 [00:38<00:12,  1.95it/s]"
     ]
    },
    {
     "name": "stdout",
     "output_type": "stream",
     "text": [
      "epoch 75/100 loss:1.1237317910731844e-05  acc:1.0\n"
     ]
    },
    {
     "name": "stderr",
     "output_type": "stream",
     "text": [
      "100%|██████████| 3/3 [00:00<00:00,  7.64it/s]\n",
      "Training::  77%|███████▋  | 77/100 [00:38<00:10,  2.10it/s]"
     ]
    },
    {
     "name": "stdout",
     "output_type": "stream",
     "text": [
      "epoch 76/100 loss:1.1646163506844964e-05  acc:1.0\n"
     ]
    },
    {
     "name": "stderr",
     "output_type": "stream",
     "text": [
      "100%|██████████| 3/3 [00:00<00:00,  7.15it/s]\n",
      "Training::  78%|███████▊  | 78/100 [00:39<00:10,  2.17it/s]"
     ]
    },
    {
     "name": "stdout",
     "output_type": "stream",
     "text": [
      "epoch 77/100 loss:2.730759240038107e-05  acc:1.0\n"
     ]
    },
    {
     "name": "stderr",
     "output_type": "stream",
     "text": [
      "100%|██████████| 3/3 [00:00<00:00,  7.65it/s]\n",
      "Training::  79%|███████▉  | 79/100 [00:39<00:09,  2.27it/s]"
     ]
    },
    {
     "name": "stdout",
     "output_type": "stream",
     "text": [
      "epoch 78/100 loss:2.03865020420779e-05  acc:1.0\n"
     ]
    },
    {
     "name": "stderr",
     "output_type": "stream",
     "text": [
      "100%|██████████| 3/3 [00:00<00:00,  7.43it/s]\n"
     ]
    },
    {
     "name": "stdout",
     "output_type": "stream",
     "text": [
      "epoch 79/100 loss:1.876392795910103e-05  acc:1.0\n"
     ]
    },
    {
     "name": "stderr",
     "output_type": "stream",
     "text": [
      "100%|██████████| 3/3 [00:00<00:00,  7.79it/s]\n",
      "Training::  80%|████████  | 80/100 [00:40<00:10,  1.82it/s]"
     ]
    },
    {
     "name": "stdout",
     "output_type": "stream",
     "text": [
      "epoch 79/100  val_acc:0.9700374531835206\n",
      "Epoch 80/100 completed in 0.80 seconds.\n"
     ]
    },
    {
     "name": "stderr",
     "output_type": "stream",
     "text": [
      "100%|██████████| 3/3 [00:00<00:00,  7.48it/s]\n",
      "Training::  81%|████████  | 81/100 [00:40<00:09,  1.98it/s]"
     ]
    },
    {
     "name": "stdout",
     "output_type": "stream",
     "text": [
      "epoch 80/100 loss:2.660350621179137e-05  acc:1.0\n"
     ]
    },
    {
     "name": "stderr",
     "output_type": "stream",
     "text": [
      "100%|██████████| 3/3 [00:00<00:00,  7.30it/s]\n",
      "Training::  82%|████████▏ | 82/100 [00:41<00:08,  2.09it/s]"
     ]
    },
    {
     "name": "stdout",
     "output_type": "stream",
     "text": [
      "epoch 81/100 loss:2.391954922302162e-05  acc:1.0\n"
     ]
    },
    {
     "name": "stderr",
     "output_type": "stream",
     "text": [
      "100%|██████████| 3/3 [00:00<00:00,  7.49it/s]\n",
      "Training::  83%|████████▎ | 83/100 [00:41<00:07,  2.20it/s]"
     ]
    },
    {
     "name": "stdout",
     "output_type": "stream",
     "text": [
      "epoch 82/100 loss:1.4987605456472112e-05  acc:1.0\n"
     ]
    },
    {
     "name": "stderr",
     "output_type": "stream",
     "text": [
      "100%|██████████| 3/3 [00:00<00:00,  7.70it/s]\n",
      "Training::  84%|████████▍ | 84/100 [00:41<00:06,  2.29it/s]"
     ]
    },
    {
     "name": "stdout",
     "output_type": "stream",
     "text": [
      "epoch 83/100 loss:7.163252322219508e-06  acc:1.0\n"
     ]
    },
    {
     "name": "stderr",
     "output_type": "stream",
     "text": [
      "100%|██████████| 3/3 [00:00<00:00,  7.56it/s]\n"
     ]
    },
    {
     "name": "stdout",
     "output_type": "stream",
     "text": [
      "epoch 84/100 loss:9.861148846743817e-06  acc:1.0\n"
     ]
    },
    {
     "name": "stderr",
     "output_type": "stream",
     "text": [
      "100%|██████████| 3/3 [00:00<00:00,  7.58it/s]\n",
      "Training::  85%|████████▌ | 85/100 [00:42<00:08,  1.82it/s]"
     ]
    },
    {
     "name": "stdout",
     "output_type": "stream",
     "text": [
      "epoch 84/100  val_acc:0.9681647940074907\n",
      "Epoch 85/100 completed in 0.81 seconds.\n"
     ]
    },
    {
     "name": "stderr",
     "output_type": "stream",
     "text": [
      "100%|██████████| 3/3 [00:00<00:00,  6.98it/s]\n",
      "Training::  86%|████████▌ | 86/100 [00:43<00:07,  1.95it/s]"
     ]
    },
    {
     "name": "stdout",
     "output_type": "stream",
     "text": [
      "epoch 85/100 loss:8.48319431180867e-06  acc:1.0\n"
     ]
    },
    {
     "name": "stderr",
     "output_type": "stream",
     "text": [
      "100%|██████████| 3/3 [00:00<00:00,  7.02it/s]\n",
      "Training::  87%|████████▋ | 87/100 [00:43<00:06,  2.05it/s]"
     ]
    },
    {
     "name": "stdout",
     "output_type": "stream",
     "text": [
      "epoch 86/100 loss:8.34653994647528e-06  acc:1.0\n"
     ]
    },
    {
     "name": "stderr",
     "output_type": "stream",
     "text": [
      "100%|██████████| 3/3 [00:00<00:00,  7.63it/s]\n",
      "Training::  88%|████████▊ | 88/100 [00:44<00:05,  2.17it/s]"
     ]
    },
    {
     "name": "stdout",
     "output_type": "stream",
     "text": [
      "epoch 87/100 loss:9.452575976412729e-06  acc:1.0\n"
     ]
    },
    {
     "name": "stderr",
     "output_type": "stream",
     "text": [
      "100%|██████████| 3/3 [00:00<00:00,  7.45it/s]\n",
      "Training::  89%|████████▉ | 89/100 [00:44<00:04,  2.25it/s]"
     ]
    },
    {
     "name": "stdout",
     "output_type": "stream",
     "text": [
      "epoch 88/100 loss:5.030186545131693e-05  acc:1.0\n"
     ]
    },
    {
     "name": "stderr",
     "output_type": "stream",
     "text": [
      "100%|██████████| 3/3 [00:00<00:00,  7.64it/s]\n"
     ]
    },
    {
     "name": "stdout",
     "output_type": "stream",
     "text": [
      "epoch 89/100 loss:1.2213847890307896e-05  acc:1.0\n"
     ]
    },
    {
     "name": "stderr",
     "output_type": "stream",
     "text": [
      "100%|██████████| 3/3 [00:00<00:00,  8.06it/s]\n",
      "Training::  90%|█████████ | 90/100 [00:45<00:05,  1.83it/s]"
     ]
    },
    {
     "name": "stdout",
     "output_type": "stream",
     "text": [
      "epoch 89/100  val_acc:0.9794007490636704\n",
      "Epoch 90/100 completed in 0.78 seconds.\n"
     ]
    },
    {
     "name": "stderr",
     "output_type": "stream",
     "text": [
      "100%|██████████| 3/3 [00:00<00:00,  7.53it/s]\n",
      "Training::  91%|█████████ | 91/100 [00:45<00:04,  1.99it/s]"
     ]
    },
    {
     "name": "stdout",
     "output_type": "stream",
     "text": [
      "epoch 90/100 loss:1.1835997873631198e-05  acc:1.0\n"
     ]
    },
    {
     "name": "stderr",
     "output_type": "stream",
     "text": [
      "100%|██████████| 3/3 [00:00<00:00,  7.49it/s]\n",
      "Training::  92%|█████████▏| 92/100 [00:46<00:03,  2.12it/s]"
     ]
    },
    {
     "name": "stdout",
     "output_type": "stream",
     "text": [
      "epoch 91/100 loss:1.466501641962747e-05  acc:1.0\n"
     ]
    },
    {
     "name": "stderr",
     "output_type": "stream",
     "text": [
      "100%|██████████| 3/3 [00:00<00:00,  7.82it/s]\n",
      "Training::  93%|█████████▎| 93/100 [00:46<00:03,  2.24it/s]"
     ]
    },
    {
     "name": "stdout",
     "output_type": "stream",
     "text": [
      "epoch 92/100 loss:3.4358188482036306e-05  acc:1.0\n"
     ]
    },
    {
     "name": "stderr",
     "output_type": "stream",
     "text": [
      "100%|██████████| 3/3 [00:00<00:00,  7.69it/s]\n",
      "Training::  94%|█████████▍| 94/100 [00:46<00:02,  2.32it/s]"
     ]
    },
    {
     "name": "stdout",
     "output_type": "stream",
     "text": [
      "epoch 93/100 loss:7.228502238078622e-06  acc:1.0\n"
     ]
    },
    {
     "name": "stderr",
     "output_type": "stream",
     "text": [
      "100%|██████████| 3/3 [00:00<00:00,  7.62it/s]\n"
     ]
    },
    {
     "name": "stdout",
     "output_type": "stream",
     "text": [
      "epoch 94/100 loss:2.1837204598825188e-05  acc:1.0\n"
     ]
    },
    {
     "name": "stderr",
     "output_type": "stream",
     "text": [
      "100%|██████████| 3/3 [00:00<00:00,  8.13it/s]\n",
      "Training::  95%|█████████▌| 95/100 [00:47<00:02,  1.87it/s]"
     ]
    },
    {
     "name": "stdout",
     "output_type": "stream",
     "text": [
      "epoch 94/100  val_acc:0.9400749063670412\n",
      "Epoch 95/100 completed in 0.78 seconds.\n"
     ]
    },
    {
     "name": "stderr",
     "output_type": "stream",
     "text": [
      "100%|██████████| 3/3 [00:00<00:00,  7.69it/s]\n",
      "Training::  96%|█████████▌| 96/100 [00:47<00:01,  2.03it/s]"
     ]
    },
    {
     "name": "stdout",
     "output_type": "stream",
     "text": [
      "epoch 95/100 loss:2.621181094705054e-05  acc:1.0\n"
     ]
    },
    {
     "name": "stderr",
     "output_type": "stream",
     "text": [
      "100%|██████████| 3/3 [00:00<00:00,  7.73it/s]\n",
      "Training::  97%|█████████▋| 97/100 [00:48<00:01,  2.16it/s]"
     ]
    },
    {
     "name": "stdout",
     "output_type": "stream",
     "text": [
      "epoch 96/100 loss:1.3693520094683108e-05  acc:1.0\n"
     ]
    },
    {
     "name": "stderr",
     "output_type": "stream",
     "text": [
      "100%|██████████| 3/3 [00:00<00:00,  7.39it/s]\n",
      "Training::  98%|█████████▊| 98/100 [00:48<00:00,  2.24it/s]"
     ]
    },
    {
     "name": "stdout",
     "output_type": "stream",
     "text": [
      "epoch 97/100 loss:7.5306376042925796e-06  acc:1.0\n"
     ]
    },
    {
     "name": "stderr",
     "output_type": "stream",
     "text": [
      "100%|██████████| 3/3 [00:00<00:00,  7.73it/s]\n",
      "Training::  99%|█████████▉| 99/100 [00:49<00:00,  2.33it/s]"
     ]
    },
    {
     "name": "stdout",
     "output_type": "stream",
     "text": [
      "epoch 98/100 loss:6.726830138228415e-06  acc:1.0\n"
     ]
    },
    {
     "name": "stderr",
     "output_type": "stream",
     "text": [
      "100%|██████████| 3/3 [00:00<00:00,  7.66it/s]\n"
     ]
    },
    {
     "name": "stdout",
     "output_type": "stream",
     "text": [
      "epoch 99/100 loss:9.220681887482771e-06  acc:1.0\n"
     ]
    },
    {
     "name": "stderr",
     "output_type": "stream",
     "text": [
      "100%|██████████| 3/3 [00:00<00:00,  8.23it/s]\n",
      "Training:: 100%|██████████| 100/100 [00:49<00:00,  2.00it/s]\n"
     ]
    },
    {
     "name": "stdout",
     "output_type": "stream",
     "text": [
      "epoch 99/100  val_acc:0.9719101123595506\n",
      "Epoch 100/100 completed in 0.77 seconds.\n",
      "Training completed in 49.93 seconds.\n",
      "Stop in epoch 99\n"
     ]
    },
    {
     "data": {
      "image/png": "[encoded data removed]",
      "text/plain": [
       "<Figure size 640x480 with 2 Axes>"
      ]
     },
     "metadata": {},
     "output_type": "display_data"
    }
   ],
   "source": [
    "## training the model\n",
    "device = torch.device(DEVICE if DEVICE>=0 and torch.cuda.is_available() else 'cpu')\n",
    "loss_list = []\n",
    "acc_list = []\n",
    "val_acc_list = []\n",
    "val_epoch_list = []\n",
    "\n",
    "model = WaveletCNN(N_PCA, class_nums=NUM_CLASS)\n",
    "model.to(device)\n",
    "#optimizer = torch.optim.SGD(model.parameters(), LR,weight_decay=WEIGHT_DECAY)\n",
    "optimizer = torch.optim.Adam(model.parameters(),LR,weight_decay=WEIGHT_DECAY)\n",
    "loss_func = nn.CrossEntropyLoss()\n",
    "batch_num = len(train_loader)\n",
    "train_num = train_loader.dataset.__len__()\n",
    "val_num = val_loader.dataset.__len__()\n",
    "\n",
    "fig = plt.figure()\n",
    "ax1 = fig.add_subplot(2,1,1)\n",
    "ax2 = fig.add_subplot(2,1,2)\n",
    "\n",
    "e = -1\n",
    "\n",
    "\n",
    "start_time = time.time()\n",
    "\n",
    "try:\n",
    "    for e in tqdm(range(EPOCH), desc=\"Training:\"):\n",
    "        epoch_start_time = time.time()\n",
    "        model.train()\n",
    "        avg_loss = 0.\n",
    "        train_acc = 0\n",
    "        for batch_idx, (data, target) in tqdm(enumerate(train_loader),total=batch_num):\n",
    "            data,target = data.to(device),target.to(device)\n",
    "            optimizer.zero_grad()\n",
    "            out = model(data)\n",
    "            target = target - 1  ## class 0 in out is class 1 in target\n",
    "            loss = loss_func(out,target)\n",
    "            loss.backward()\n",
    "            optimizer.step()\n",
    "            avg_loss += loss.item()\n",
    "            _,pred = torch.max(out,dim=1)\n",
    "            train_acc += (pred == target).sum().item()\n",
    "        loss_list.append(avg_loss/train_num)\n",
    "        acc_list.append(train_acc/train_num)\n",
    "        print(f\"epoch {e}/{EPOCH} loss:{loss_list[e]}  acc:{acc_list[e]}\")\n",
    "        ## valuation\n",
    "        if (e+1)%VAL_EPOCH == 0 or (e+1)==EPOCH:\n",
    "            val_acc =0\n",
    "            model.eval()\n",
    "            for batch_idx, (data, target) in tqdm(enumerate(val_loader),total=len(val_loader)):\n",
    "                data,target = data.to(device),target.to(device)\n",
    "                out = model(data)\n",
    "                target = target - 1  ## class 0 in out is class 1 in target\n",
    "                _,pred = torch.max(out,dim=1)\n",
    "                val_acc += (pred == target).sum().item()\n",
    "            val_acc_list.append(val_acc/val_num)\n",
    "            val_epoch_list.append(e)\n",
    "            print(f\"epoch {e}/{EPOCH}  val_acc:{val_acc_list[-1]}\")\n",
    "            save_name = os.path.join(SAVE_PATH, f\"epoch_{e}_acc_{val_acc_list[-1]:.4f}.pth\")\n",
    "            torch.save(model.state_dict(),save_name)\n",
    "\n",
    "\n",
    "            epoch_end_time = time.time()\n",
    "            print(f\"Epoch {e + 1}/{EPOCH} completed in {epoch_end_time - epoch_start_time:.2f} seconds.\")\n",
    "\n",
    "\n",
    "\n",
    "    ax1.plot(np.arange(e+1),loss_list)\n",
    "    ax1.set_title(' training loss')\n",
    "    ax1.set_xlabel('epoch')\n",
    "    ax2.plot(np.arange(e+1),acc_list,label = 'train_acc')\n",
    "    ax2.plot(val_epoch_list,val_acc_list,label = 'val_acc')\n",
    "    ax2.set_title('training accuracy')\n",
    "    ax2.set_xlabel('epoch')\n",
    "    ax2.legend()\n",
    "except Exception as exc:\n",
    "    print(exc)\n",
    "finally: \n",
    "    total_time = time.time() - start_time\n",
    "    print(f\"Training completed in {total_time:.2f} seconds.\")\n",
    "    print(f'Stop in epoch {e}')"
   ]
  },
  {
   "cell_type": "markdown",
   "metadata": {},
   "source": [
    "### Save Best Model"
   ]
  },
  {
   "cell_type": "code",
   "execution_count": null,
   "metadata": {},
   "outputs": [],
   "source": [
    "## get best model path and del other models\n",
    "def get_best_model(acc_list, epoch_list, save_path):\n",
    "    \"\"\"get best model path by valuation list\n",
    "\n",
    "    Args:\n",
    "        acc_list (list): list of valuation accuracy\n",
    "        epoch_list (list): list of valuation epoch\n",
    "        save_path (str): path of save dir\n",
    "\n",
    "    Returns:\n",
    "        best_model_path: path of best model\n",
    "    \"\"\"\n",
    "    acc_list = np.array(acc_list)\n",
    "    epoch_list = np.array(epoch_list)\n",
    "    best_index = np.argwhere(acc_list==np.max(acc_list))[-1].item()\n",
    "    best_epoch = epoch_list[best_index]\n",
    "    best_acc = acc_list[best_index]\n",
    "    file_name = f\"epoch_{best_epoch}_acc_{best_acc:.4f}.pth\"\n",
    "    best_model_path=os.path.join(save_path, file_name)\n",
    "    print(f\"best model:{file_name}\")\n",
    "    ##del save model except best model\n",
    "    for f in os.listdir(save_path):\n",
    "        if f[-3:]=='pth' and os.path.join(save_path,f)!=best_model_path:\n",
    "            os.remove(os.path.join(save_path,f))\n",
    "    return best_model_path"
   ]
  },
  {
   "cell_type": "markdown",
   "metadata": {},
   "source": [
    "### Load"
   ]
  },
  {
   "cell_type": "code",
   "execution_count": null,
   "metadata": {},
   "outputs": [
    {
     "name": "stderr",
     "output_type": "stream",
     "text": [
      "C:\\Users\\Philip Shahdadfar\\AppData\\Local\\Temp\\ipykernel_15792\\3413468574.py:5: FutureWarning: You are using `torch.load` with `weights_only=False` (the current default value), which uses the default pickle module implicitly. It is possible to construct malicious pickle data which will execute arbitrary code during unpickling (See https://github.com/pytorch/pytorch/blob/main/SECURITY.md#untrusted-models for more details). In a future release, the default value for `weights_only` will be flipped to `True`. This limits the functions that could be executed during unpickling. Arbitrary objects will no longer be allowed to be loaded via this mode unless they are explicitly allowlisted by the user via `torch.serialization.add_safe_globals`. We recommend you start setting `weights_only=True` for any use case where you don't have full control of the loaded file. Please open an issue on GitHub for any issues related to this experimental feature.\n",
      "  best_model.load_state_dict(torch.load(best_model_path))\n"
     ]
    },
    {
     "name": "stdout",
     "output_type": "stream",
     "text": [
      "best model:epoch_24_acc_0.9925.pth\n"
     ]
    },
    {
     "name": "stderr",
     "output_type": "stream",
     "text": [
      "100%|██████████| 28/28 [00:04<00:00,  5.74it/s]\n"
     ]
    }
   ],
   "source": [
    "## inferring the whole image\n",
    "##load best model\n",
    "best_model_path = get_best_model(val_acc_list,val_epoch_list,SAVE_PATH)\n",
    "best_model = WaveletCNN(N_PCA,class_nums=NUM_CLASS)\n",
    "best_model.load_state_dict(torch.load(best_model_path))\n",
    "## inference\n",
    "best_model.to(device)\n",
    "best_model.eval()\n",
    "pred_map = []\n",
    "for batch_idx, data in tqdm(enumerate(all_loader),total=len(all_loader)):\n",
    "    data = data.to(device)\n",
    "    target = best_model(data)\n",
    "    _, pred = torch.max(target, dim = 1)\n",
    "    pred_map += [np.array(pred.detach().cpu() + 1)]   ## class 0 in pred_map is class 1 in gt\n",
    "pred_map = np.asarray(np.hstack(pred_map),dtype=np.uint8).reshape(labels.shape[0],labels.shape[1])\n"
   ]
  },
  {
   "cell_type": "markdown",
   "metadata": {},
   "source": [
    "## Prediction"
   ]
  },
  {
   "cell_type": "code",
   "execution_count": null,
   "metadata": {},
   "outputs": [
    {
     "name": "stderr",
     "output_type": "stream",
     "text": [
      "c:\\Users\\Philip Shahdadfar\\AppData\\Local\\Programs\\Python\\Python312\\Lib\\site-packages\\spectral\\graphics\\spypylab.py:796: UserWarning: Failed to create RectangleSelector object. Interactive pixel class labeling will be unavailable.\n",
      "  warnings.warn(msg)\n"
     ]
    },
    {
     "data": {
      "image/png": "[encoded data removed]",
      "text/plain": [
       "<Figure size 700x700 with 1 Axes>"
      ]
     },
     "metadata": {},
     "output_type": "display_data"
    },
    {
     "data": {
      "image/png": "[encoded data removed]",
      "text/plain": [
       "<Figure size 700x700 with 1 Axes>"
      ]
     },
     "metadata": {},
     "output_type": "display_data"
    },
    {
     "data": {
      "image/png": "[encoded data removed]",
      "text/plain": [
       "<Figure size 700x700 with 1 Axes>"
      ]
     },
     "metadata": {},
     "output_type": "display_data"
    }
   ],
   "source": [
    "spectral.imshow(classes=pred_map,title='prediction',figsize=(7,7))\n",
    "spectral.imshow(classes=pred_map*(labels!=0),title='prediction_masked',figsize=(7,7))\n",
    "spectral.imshow(classes=labels, title='GroundTruth', figsize=(7, 7))\n",
    "spectral.save_rgb(os.path.join(SAVE_PATH,f\"prediction.jpg\"),pred_map,colors = spectral.spy_colors)\n",
    "spectral.save_rgb(os.path.join(SAVE_PATH,f\"prediction_masked.jpg\"),pred_map*(labels!=0),colors = spectral.spy_colors)\n",
    "spectral.save_rgb(os.path.join(SAVE_PATH,f\"Groundtruth.jpg\"),labels, colors=spectral.spy_colors)"
   ]
  },
  {
   "cell_type": "markdown",
   "metadata": {},
   "source": [
    "## Evaluation"
   ]
  },
  {
   "cell_type": "code",
   "execution_count": null,
   "metadata": {},
   "outputs": [
    {
     "name": "stdout",
     "output_type": "stream",
     "text": [
      "OA: 0.9852803738317757\n",
      "AA: 0.9864776875755149\n",
      "Kappa: 0.9815862763263187\n",
      "                           precision    recall  f1-score   support\n",
      "\n",
      "    Brocoli_green_weeds_1     1.0000    1.0000    1.0000       313\n",
      "Corn_senesced_green_weeds     0.9972    0.9963    0.9967      1075\n",
      "      Lettuce_romaine_4wk     0.9572    1.0000    0.9781       492\n",
      "      Lettuce_romaine_5wk     0.9892    0.9795    0.9844      1221\n",
      "      Lettuce_romaine_6wk     0.9617    0.9759    0.9688       540\n",
      "      Lettuce_romaine_7wk     0.9936    0.9671    0.9802       639\n",
      "\n",
      "                 accuracy                         0.9853      4280\n",
      "                macro avg     0.9832    0.9865    0.9847      4280\n",
      "             weighted avg     0.9855    0.9853    0.9853      4280\n",
      "\n"
     ]
    }
   ],
   "source": [
    "test_pred = pred_map[test_gt!=0]\n",
    "test_true = test_gt[test_gt!=0]\n",
    "\n",
    "OA = accuracy_score(test_true,test_pred)\n",
    "AA = recall_score(test_true,test_pred,average='macro')\n",
    "kappa = cohen_kappa_score(test_true,test_pred)\n",
    "report_log = F\"OA: {OA}\\nAA: {AA}\\nKappa: {kappa}\\n\"\n",
    "report_log += classification_report(test_true,test_pred,target_names=class_name,digits=4, zero_division=0)\n",
    "print(report_log)\n",
    "fp = open(os.path.join(SAVE_PATH,'classfication_report.txt'),'w+')\n",
    "fp.writelines(report_log)\n",
    "fp.close()"
   ]
  },
  {
   "cell_type": "markdown",
   "metadata": {},
   "source": [
    "### Confusion Matrix"
   ]
  },
  {
   "cell_type": "code",
   "execution_count": null,
   "metadata": {},
   "outputs": [],
   "source": [
    "unique_classes = np.unique(test_true)\n",
    "class_mapping = {cls: idx for idx, cls in enumerate(unique_classes)}\n",
    "test_true_remapped = np.array([class_mapping[val] for val in test_true])\n",
    "test_pred_remapped = np.array([class_mapping[val] for val in test_pred])\n"
   ]
  },
  {
   "cell_type": "code",
   "execution_count": null,
   "metadata": {},
   "outputs": [
    {
     "data": {
      "image/png": "[encoded data removed]",
      "text/plain": [
       "<Figure size 640x480 with 2 Axes>"
      ]
     },
     "metadata": {},
     "output_type": "display_data"
    },
    {
     "data": {
      "text/plain": [
       "<Figure size 1000x1000 with 0 Axes>"
      ]
     },
     "metadata": {},
     "output_type": "display_data"
    }
   ],
   "source": [
    "cm = confusion_matrix(test_true_remapped, test_pred_remapped)\n",
    "sns.heatmap(cm, annot=True,fmt='d', cmap='YlGnBu', xticklabels=class_name, yticklabels=class_name)\n",
    "plt.xlabel('Prediction',fontsize=12)\n",
    "plt.ylabel('Actual',fontsize=12)\n",
    "plt.title('Confusion Matrix',fontsize=16)\n",
    "plt.figure(figsize=(10, 10))\n",
    "plt.show()\n",
    "#plt.savefig(os.path.join(SAVE_PATH, 'confusion_matrix_with_values.png'))"
   ]
  }
 ],
 "metadata": {
  "kernelspec": {
   "display_name": "Python 3",
   "language": "python",
   "name": "python3"
  },
  "language_info": {
   "codemirror_mode": {
    "name": "ipython",
    "version": 3
   },
   "file_extension": ".py",
   "mimetype": "text/x-python",
   "name": "python",
   "nbconvert_exporter": "python",
   "pygments_lexer": "ipython3",
   "version": "3.12.3"
  }
 },
 "nbformat": 4,
 "nbformat_minor": 2
}
